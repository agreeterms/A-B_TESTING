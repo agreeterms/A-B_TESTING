{
 "cells": [
  {
   "cell_type": "markdown",
   "id": "3317b25d",
   "metadata": {},
   "source": [
    "# Project Overview\n",
    "Objective:\n",
    "To determine which version of the landing page (A or B) leads to a higher conversion rate (i.e., more users making a purchase).\n",
    "Hypothesis:\n",
    "Null Hypothesis (H0): The conversion rates for both landing pages (A and B) are equal.\n",
    "Alternative Hypothesis (H1): The conversion rates for the two landing pages are different."
   ]
  },
  {
   "cell_type": "code",
   "execution_count": 12,
   "id": "9dfa966d",
   "metadata": {},
   "outputs": [
    {
     "name": "stdout",
     "output_type": "stream",
     "text": [
      "   user_id group  converted\n",
      "0        1     A          0\n",
      "1        2     B          1\n",
      "2        3     B          0\n",
      "3        4     B          0\n",
      "4        5     A          0\n"
     ]
    }
   ],
   "source": [
    "import pandas as pd\n",
    "import numpy as np\n",
    "\n",
    "# Set random seed for reproducibility\n",
    "np.random.seed(42)\n",
    "\n",
    "# Generate synthetic data\n",
    "n = 10000  # total number of users\n",
    "data = {\n",
    "    'user_id': range(1, n + 1),\n",
    "    'group': np.random.choice(['A', 'B'], size=n, p=[0.5, 0.5]),\n",
    "    'converted': np.random.choice([0, 1], size=n, p=[0.9, 0.1])  # assume 10% conversion rate\n",
    "}\n",
    "\n",
    "df = pd.DataFrame(data)\n",
    "\n",
    "# Simulate a slight difference in conversion rate between groups\n",
    "df.loc[df['group'] == 'A', 'converted'] = np.random.choice([0, 1], size=df[df['group'] == 'A'].shape[0], p=[0.88, 0.12])\n",
    "df.loc[df['group'] == 'B', 'converted'] = np.random.choice([0, 1], size=df[df['group'] == 'B'].shape[0], p=[0.92, 0.08])\n",
    "\n",
    "# Display the first few rows of the dataframe\n",
    "print(df.head())"
   ]
  },
  {
   "cell_type": "code",
   "execution_count": 13,
   "id": "f596ecec",
   "metadata": {},
   "outputs": [
    {
     "name": "stdout",
     "output_type": "stream",
     "text": [
      "group\n",
      "A    0.126084\n",
      "B    0.069456\n",
      "Name: converted, dtype: float64\n",
      "converted     0    1\n",
      "group               \n",
      "A          4436  640\n",
      "B          4582  342\n",
      "Chi-square test statistic: 89.86767682318305\n",
      "P-value: 2.5463331385406013e-21\n"
     ]
    }
   ],
   "source": [
    "# Calculate conversion rates for each group\n",
    "conversion_rates = df.groupby('group')['converted'].mean()\n",
    "print(conversion_rates)\n",
    "\n",
    "# Perform a statistical test to compare the conversion rates\n",
    "from scipy.stats import chi2_contingency\n",
    "\n",
    "# Create a contingency table\n",
    "contingency_table = pd.crosstab(df['group'], df['converted'])\n",
    "print(contingency_table)\n",
    "\n",
    "# Perform the chi-square test\n",
    "chi2, p, _, _ = chi2_contingency(contingency_table)\n",
    "print(f\"Chi-square test statistic: {chi2}\")\n",
    "print(f\"P-value: {p}\")\n"
   ]
  },
  {
   "cell_type": "code",
   "execution_count": 14,
   "id": "2745963b",
   "metadata": {},
   "outputs": [
    {
     "name": "stdout",
     "output_type": "stream",
     "text": [
      "Reject the null hypothesis. There is a significant difference in conversion rates between the two groups.\n"
     ]
    }
   ],
   "source": [
    "alpha = 0.05  # significance level\n",
    "\n",
    "if p < alpha:\n",
    "    print(\"Reject the null hypothesis. There is a significant difference in conversion rates between the two groups.\")\n",
    "else:\n",
    "    print(\"Fail to reject the null hypothesis. There is no significant difference in conversion rates between the two groups.\")\n"
   ]
  },
  {
   "cell_type": "markdown",
   "id": "d3a62bb2",
   "metadata": {},
   "source": [
    "### Conclusion\n",
    "\n",
    "Based on the A/B test results, we found that the p-value is [p-value], which is [greater/less] than the significance level of 0.05. Therefore, we [fail to reject/reject] the null hypothesis. This means that there is [no significant/a significant] difference in conversion rates between the two landing pages.\n",
    "\n",
    "### Recommendations\n",
    "\n",
    "- If version B has a higher conversion rate, consider implementing the changes from version B on the main website to improve overall conversions.\n",
    "- If there is no significant difference, further testing with different variables or larger sample sizes may be needed to find meaningful insights.\n"
   ]
  },
  {
   "cell_type": "code",
   "execution_count": null,
   "id": "8972a2b0",
   "metadata": {},
   "outputs": [],
   "source": []
  }
 ],
 "metadata": {
  "kernelspec": {
   "display_name": "Python 3 (ipykernel)",
   "language": "python",
   "name": "python3"
  },
  "language_info": {
   "codemirror_mode": {
    "name": "ipython",
    "version": 3
   },
   "file_extension": ".py",
   "mimetype": "text/x-python",
   "name": "python",
   "nbconvert_exporter": "python",
   "pygments_lexer": "ipython3",
   "version": "3.11.5"
  }
 },
 "nbformat": 4,
 "nbformat_minor": 5
}
